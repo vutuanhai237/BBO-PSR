{
 "cells": [
  {
   "cell_type": "markdown",
   "metadata": {},
   "source": [
    "<img src = 'images\\grid.png' width = 250px/>"
   ]
  },
  {
   "cell_type": "code",
   "execution_count": 40,
   "metadata": {},
   "outputs": [
    {
     "name": "stdout",
     "output_type": "stream",
     "text": [
      "Num step:  32\n"
     ]
    },
    {
     "data": {
      "image/png": "[encoded data removed]",
      "text/plain": [
       "<Figure size 432x288 with 1 Axes>"
      ]
     },
     "metadata": {
      "needs_background": "light"
     },
     "output_type": "display_data"
    }
   ],
   "source": [
    "import numpy as np\n",
    "from matplotlib import pyplot as plt\n",
    "from matplotlib.patches import Rectangle\n",
    "radius = 10\n",
    "points = []\n",
    "losses = [1]\n",
    "origin = (0, 0)\n",
    "origins = []\n",
    "def compute_points():\n",
    "    global origin, radius, points\n",
    "    x, y = origin\n",
    "    points.clear()\n",
    "    points.append((x - radius, y + radius))\n",
    "    points.append((x, y + radius))\n",
    "    points.append((x + radius, y + radius))\n",
    "    points.append((x - radius, y))\n",
    "    points.append((x, y))\n",
    "    points.append((x + radius, y))\n",
    "    points.append((x - radius, y - radius))\n",
    "    points.append((x, y - radius))\n",
    "    points.append((x + radius, y - radius))\n",
    "    return \n",
    "\n",
    "def loss(r, s):\n",
    "    return ((1000 - r)**2 + (2015 - s)**2)**(1/2) \n",
    "\n",
    "def compute_loss():\n",
    "    losses.clear()\n",
    "    for x, y in points:\n",
    "        losses.append(loss(x, y))\n",
    "    index_min = np.argmin(losses)\n",
    "    return index_min\n",
    "\n",
    "def update(index_min):\n",
    "    global origin, radius, points\n",
    "    # Center point is not change\n",
    "    if index_min == 4:\n",
    "        radius /= 2  \n",
    "    else:\n",
    "        origin = points[index_min]\n",
    "        radius *= 2\n",
    "    compute_points()\n",
    "\n",
    "compute_points()\n",
    "i = 0\n",
    "while(np.min(losses) > 10**(-5)):\n",
    "    index_min = compute_loss()\n",
    "    update(index_min)\n",
    "    origins.append(origin)\n",
    "    plt.gca().add_patch(Rectangle((origin[0] - radius, origin[1] - radius), 2*radius, 2*radius, edgecolor='red',\n",
    "                    facecolor='none', lw=1))\n",
    "    i += 1\n",
    "\n",
    "print('Num step: ', i)\n",
    "\n",
    "plt.plot(*zip(*origins), linewidth = 1) \n",
    "# plt.scatter(*zip(*origins), s = 0.1, color='black')\n",
    "# for i in range(0, len(origins)):\n",
    "#     print(origins[i])\n",
    "#     plt.annotate(origins[i], (origins[i][0] + 0.3, origins[i][1] + 0.3))\n",
    "plt.savefig('test.png', format='png', dpi=1200)"
   ]
  }
 ],
 "metadata": {
  "interpreter": {
   "hash": "770b641b4564229c593d803dcff32fdd6beb94e7a78ba8806c95b100ce213599"
  },
  "kernelspec": {
   "display_name": "Python 3.8.0 64-bit",
   "language": "python",
   "name": "python3"
  },
  "language_info": {
   "codemirror_mode": {
    "name": "ipython",
    "version": 3
   },
   "file_extension": ".py",
   "mimetype": "text/x-python",
   "name": "python",
   "nbconvert_exporter": "python",
   "pygments_lexer": "ipython3",
   "version": "3.8.0"
  },
  "orig_nbformat": 4
 },
 "nbformat": 4,
 "nbformat_minor": 2
}
